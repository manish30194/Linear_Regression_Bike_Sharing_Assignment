{
 "cells": [
  {
   "cell_type": "markdown",
   "id": "8266eec6",
   "metadata": {},
   "source": [
    "#### Problem Statement:\n",
    "\n",
    "A US bike-sharing provider BoomBikes has recently suffered considerable dips in their revenues due to the ongoing Corona pandemic. The company is finding it very difficult to sustain in the current market scenario.In such an attempt, BoomBikes aspires to understand the demand for shared bikes among the people after this ongoing quarantine situation ends across the nation due to Covid-19. They have planned this to prepare themselves to cater to the people's needs once the situation gets better all around and stand out from other service providers and make huge profits.\n",
    "\n",
    "***The company wants to know:***\n",
    "\n",
    "- Which variables are significant in predicting the demand for shared bikes.\n",
    "- How well those variables describe the bike demands\n",
    "\n",
    "***Goal:***\n",
    "- Develop a model to find the variables which are significant the demand for shared bikes with the available independent variables.\n",
    "- It will be used by the management to understand and manipulate the business strategy to meet the demand levels and meet the customer's expectations."
   ]
  },
  {
   "cell_type": "markdown",
   "id": "7947ff25",
   "metadata": {},
   "source": [
    "## Step1: Importing Libraries"
   ]
  },
  {
   "cell_type": "code",
   "execution_count": 1,
   "id": "f194848c",
   "metadata": {},
   "outputs": [],
   "source": [
    "#imporitng the required packages\n",
    "import numpy as np\n",
    "import pandas as pd\n",
    "import matplotlib.pyplot as plt\n",
    "import seaborn as sns\n",
    "from sklearn.model_selection import train_test_split\n",
    "from sklearn.preprocessing import StandardScaler\n",
    "import statsmodels.api as sm\n",
    "from statsmodels.stats.outliers_influence import variance_inflation_factor\n",
    "import warnings\n",
    "warnings.filterwarnings('ignore')"
   ]
  },
  {
   "cell_type": "markdown",
   "id": "96616a60",
   "metadata": {},
   "source": [
    "# Step2: Reading Dataset and Understanding Data"
   ]
  },
  {
   "cell_type": "code",
   "execution_count": 2,
   "id": "baeebf86",
   "metadata": {},
   "outputs": [],
   "source": [
    "#Read the csv file using pandas\n",
    "bikeSharing_df = pd.read_csv('day.csv')"
   ]
  },
  {
   "cell_type": "code",
   "execution_count": 3,
   "id": "88a9b291",
   "metadata": {},
   "outputs": [
    {
     "data": {
      "text/html": [
       "<div>\n",
       "<style scoped>\n",
       "    .dataframe tbody tr th:only-of-type {\n",
       "        vertical-align: middle;\n",
       "    }\n",
       "\n",
       "    .dataframe tbody tr th {\n",
       "        vertical-align: top;\n",
       "    }\n",
       "\n",
       "    .dataframe thead th {\n",
       "        text-align: right;\n",
       "    }\n",
       "</style>\n",
       "<table border=\"1\" class=\"dataframe\">\n",
       "  <thead>\n",
       "    <tr style=\"text-align: right;\">\n",
       "      <th></th>\n",
       "      <th>instant</th>\n",
       "      <th>dteday</th>\n",
       "      <th>season</th>\n",
       "      <th>yr</th>\n",
       "      <th>mnth</th>\n",
       "      <th>holiday</th>\n",
       "      <th>weekday</th>\n",
       "      <th>workingday</th>\n",
       "      <th>weathersit</th>\n",
       "      <th>temp</th>\n",
       "      <th>atemp</th>\n",
       "      <th>hum</th>\n",
       "      <th>windspeed</th>\n",
       "      <th>casual</th>\n",
       "      <th>registered</th>\n",
       "      <th>cnt</th>\n",
       "    </tr>\n",
       "  </thead>\n",
       "  <tbody>\n",
       "    <tr>\n",
       "      <th>0</th>\n",
       "      <td>1</td>\n",
       "      <td>01-01-2018</td>\n",
       "      <td>1</td>\n",
       "      <td>0</td>\n",
       "      <td>1</td>\n",
       "      <td>0</td>\n",
       "      <td>6</td>\n",
       "      <td>0</td>\n",
       "      <td>2</td>\n",
       "      <td>14.110847</td>\n",
       "      <td>18.18125</td>\n",
       "      <td>80.5833</td>\n",
       "      <td>10.749882</td>\n",
       "      <td>331</td>\n",
       "      <td>654</td>\n",
       "      <td>985</td>\n",
       "    </tr>\n",
       "    <tr>\n",
       "      <th>1</th>\n",
       "      <td>2</td>\n",
       "      <td>02-01-2018</td>\n",
       "      <td>1</td>\n",
       "      <td>0</td>\n",
       "      <td>1</td>\n",
       "      <td>0</td>\n",
       "      <td>0</td>\n",
       "      <td>0</td>\n",
       "      <td>2</td>\n",
       "      <td>14.902598</td>\n",
       "      <td>17.68695</td>\n",
       "      <td>69.6087</td>\n",
       "      <td>16.652113</td>\n",
       "      <td>131</td>\n",
       "      <td>670</td>\n",
       "      <td>801</td>\n",
       "    </tr>\n",
       "    <tr>\n",
       "      <th>2</th>\n",
       "      <td>3</td>\n",
       "      <td>03-01-2018</td>\n",
       "      <td>1</td>\n",
       "      <td>0</td>\n",
       "      <td>1</td>\n",
       "      <td>0</td>\n",
       "      <td>1</td>\n",
       "      <td>1</td>\n",
       "      <td>1</td>\n",
       "      <td>8.050924</td>\n",
       "      <td>9.47025</td>\n",
       "      <td>43.7273</td>\n",
       "      <td>16.636703</td>\n",
       "      <td>120</td>\n",
       "      <td>1229</td>\n",
       "      <td>1349</td>\n",
       "    </tr>\n",
       "    <tr>\n",
       "      <th>3</th>\n",
       "      <td>4</td>\n",
       "      <td>04-01-2018</td>\n",
       "      <td>1</td>\n",
       "      <td>0</td>\n",
       "      <td>1</td>\n",
       "      <td>0</td>\n",
       "      <td>2</td>\n",
       "      <td>1</td>\n",
       "      <td>1</td>\n",
       "      <td>8.200000</td>\n",
       "      <td>10.60610</td>\n",
       "      <td>59.0435</td>\n",
       "      <td>10.739832</td>\n",
       "      <td>108</td>\n",
       "      <td>1454</td>\n",
       "      <td>1562</td>\n",
       "    </tr>\n",
       "    <tr>\n",
       "      <th>4</th>\n",
       "      <td>5</td>\n",
       "      <td>05-01-2018</td>\n",
       "      <td>1</td>\n",
       "      <td>0</td>\n",
       "      <td>1</td>\n",
       "      <td>0</td>\n",
       "      <td>3</td>\n",
       "      <td>1</td>\n",
       "      <td>1</td>\n",
       "      <td>9.305237</td>\n",
       "      <td>11.46350</td>\n",
       "      <td>43.6957</td>\n",
       "      <td>12.522300</td>\n",
       "      <td>82</td>\n",
       "      <td>1518</td>\n",
       "      <td>1600</td>\n",
       "    </tr>\n",
       "  </tbody>\n",
       "</table>\n",
       "</div>"
      ],
      "text/plain": [
       "   instant      dteday  season  yr  mnth  holiday  weekday  workingday  \\\n",
       "0        1  01-01-2018       1   0     1        0        6           0   \n",
       "1        2  02-01-2018       1   0     1        0        0           0   \n",
       "2        3  03-01-2018       1   0     1        0        1           1   \n",
       "3        4  04-01-2018       1   0     1        0        2           1   \n",
       "4        5  05-01-2018       1   0     1        0        3           1   \n",
       "\n",
       "   weathersit       temp     atemp      hum  windspeed  casual  registered  \\\n",
       "0           2  14.110847  18.18125  80.5833  10.749882     331         654   \n",
       "1           2  14.902598  17.68695  69.6087  16.652113     131         670   \n",
       "2           1   8.050924   9.47025  43.7273  16.636703     120        1229   \n",
       "3           1   8.200000  10.60610  59.0435  10.739832     108        1454   \n",
       "4           1   9.305237  11.46350  43.6957  12.522300      82        1518   \n",
       "\n",
       "    cnt  \n",
       "0   985  \n",
       "1   801  \n",
       "2  1349  \n",
       "3  1562  \n",
       "4  1600  "
      ]
     },
     "execution_count": 3,
     "metadata": {},
     "output_type": "execute_result"
    }
   ],
   "source": [
    "#Inspect first few rows\n",
    "bikeSharing_df.head()"
   ]
  },
  {
   "cell_type": "code",
   "execution_count": 4,
   "id": "4d343c01",
   "metadata": {},
   "outputs": [
    {
     "data": {
      "text/plain": [
       "(730, 16)"
      ]
     },
     "execution_count": 4,
     "metadata": {},
     "output_type": "execute_result"
    }
   ],
   "source": [
    "#check the shape\n",
    "bikeSharing_df.shape"
   ]
  },
  {
   "cell_type": "code",
   "execution_count": 5,
   "id": "33f39335",
   "metadata": {},
   "outputs": [
    {
     "name": "stdout",
     "output_type": "stream",
     "text": [
      "<class 'pandas.core.frame.DataFrame'>\n",
      "RangeIndex: 730 entries, 0 to 729\n",
      "Data columns (total 16 columns):\n",
      " #   Column      Non-Null Count  Dtype  \n",
      "---  ------      --------------  -----  \n",
      " 0   instant     730 non-null    int64  \n",
      " 1   dteday      730 non-null    object \n",
      " 2   season      730 non-null    int64  \n",
      " 3   yr          730 non-null    int64  \n",
      " 4   mnth        730 non-null    int64  \n",
      " 5   holiday     730 non-null    int64  \n",
      " 6   weekday     730 non-null    int64  \n",
      " 7   workingday  730 non-null    int64  \n",
      " 8   weathersit  730 non-null    int64  \n",
      " 9   temp        730 non-null    float64\n",
      " 10  atemp       730 non-null    float64\n",
      " 11  hum         730 non-null    float64\n",
      " 12  windspeed   730 non-null    float64\n",
      " 13  casual      730 non-null    int64  \n",
      " 14  registered  730 non-null    int64  \n",
      " 15  cnt         730 non-null    int64  \n",
      "dtypes: float64(4), int64(11), object(1)\n",
      "memory usage: 91.4+ KB\n"
     ]
    }
   ],
   "source": [
    "#check dataframe for null and datatype \n",
    "bikeSharing_df.info()"
   ]
  },
  {
   "cell_type": "code",
   "execution_count": 6,
   "id": "249ff831",
   "metadata": {},
   "outputs": [
    {
     "data": {
      "text/html": [
       "<div>\n",
       "<style scoped>\n",
       "    .dataframe tbody tr th:only-of-type {\n",
       "        vertical-align: middle;\n",
       "    }\n",
       "\n",
       "    .dataframe tbody tr th {\n",
       "        vertical-align: top;\n",
       "    }\n",
       "\n",
       "    .dataframe thead th {\n",
       "        text-align: right;\n",
       "    }\n",
       "</style>\n",
       "<table border=\"1\" class=\"dataframe\">\n",
       "  <thead>\n",
       "    <tr style=\"text-align: right;\">\n",
       "      <th></th>\n",
       "      <th>instant</th>\n",
       "      <th>season</th>\n",
       "      <th>yr</th>\n",
       "      <th>mnth</th>\n",
       "      <th>holiday</th>\n",
       "      <th>weekday</th>\n",
       "      <th>workingday</th>\n",
       "      <th>weathersit</th>\n",
       "      <th>temp</th>\n",
       "      <th>atemp</th>\n",
       "      <th>hum</th>\n",
       "      <th>windspeed</th>\n",
       "      <th>casual</th>\n",
       "      <th>registered</th>\n",
       "      <th>cnt</th>\n",
       "    </tr>\n",
       "  </thead>\n",
       "  <tbody>\n",
       "    <tr>\n",
       "      <th>count</th>\n",
       "      <td>730.000000</td>\n",
       "      <td>730.000000</td>\n",
       "      <td>730.000000</td>\n",
       "      <td>730.000000</td>\n",
       "      <td>730.000000</td>\n",
       "      <td>730.000000</td>\n",
       "      <td>730.000000</td>\n",
       "      <td>730.000000</td>\n",
       "      <td>730.000000</td>\n",
       "      <td>730.000000</td>\n",
       "      <td>730.000000</td>\n",
       "      <td>730.000000</td>\n",
       "      <td>730.000000</td>\n",
       "      <td>730.000000</td>\n",
       "      <td>730.000000</td>\n",
       "    </tr>\n",
       "    <tr>\n",
       "      <th>mean</th>\n",
       "      <td>365.500000</td>\n",
       "      <td>2.498630</td>\n",
       "      <td>0.500000</td>\n",
       "      <td>6.526027</td>\n",
       "      <td>0.028767</td>\n",
       "      <td>2.997260</td>\n",
       "      <td>0.683562</td>\n",
       "      <td>1.394521</td>\n",
       "      <td>20.319259</td>\n",
       "      <td>23.726322</td>\n",
       "      <td>62.765175</td>\n",
       "      <td>12.763620</td>\n",
       "      <td>849.249315</td>\n",
       "      <td>3658.757534</td>\n",
       "      <td>4508.006849</td>\n",
       "    </tr>\n",
       "    <tr>\n",
       "      <th>std</th>\n",
       "      <td>210.877136</td>\n",
       "      <td>1.110184</td>\n",
       "      <td>0.500343</td>\n",
       "      <td>3.450215</td>\n",
       "      <td>0.167266</td>\n",
       "      <td>2.006161</td>\n",
       "      <td>0.465405</td>\n",
       "      <td>0.544807</td>\n",
       "      <td>7.506729</td>\n",
       "      <td>8.150308</td>\n",
       "      <td>14.237589</td>\n",
       "      <td>5.195841</td>\n",
       "      <td>686.479875</td>\n",
       "      <td>1559.758728</td>\n",
       "      <td>1936.011647</td>\n",
       "    </tr>\n",
       "    <tr>\n",
       "      <th>min</th>\n",
       "      <td>1.000000</td>\n",
       "      <td>1.000000</td>\n",
       "      <td>0.000000</td>\n",
       "      <td>1.000000</td>\n",
       "      <td>0.000000</td>\n",
       "      <td>0.000000</td>\n",
       "      <td>0.000000</td>\n",
       "      <td>1.000000</td>\n",
       "      <td>2.424346</td>\n",
       "      <td>3.953480</td>\n",
       "      <td>0.000000</td>\n",
       "      <td>1.500244</td>\n",
       "      <td>2.000000</td>\n",
       "      <td>20.000000</td>\n",
       "      <td>22.000000</td>\n",
       "    </tr>\n",
       "    <tr>\n",
       "      <th>25%</th>\n",
       "      <td>183.250000</td>\n",
       "      <td>2.000000</td>\n",
       "      <td>0.000000</td>\n",
       "      <td>4.000000</td>\n",
       "      <td>0.000000</td>\n",
       "      <td>1.000000</td>\n",
       "      <td>0.000000</td>\n",
       "      <td>1.000000</td>\n",
       "      <td>13.811885</td>\n",
       "      <td>16.889713</td>\n",
       "      <td>52.000000</td>\n",
       "      <td>9.041650</td>\n",
       "      <td>316.250000</td>\n",
       "      <td>2502.250000</td>\n",
       "      <td>3169.750000</td>\n",
       "    </tr>\n",
       "    <tr>\n",
       "      <th>50%</th>\n",
       "      <td>365.500000</td>\n",
       "      <td>3.000000</td>\n",
       "      <td>0.500000</td>\n",
       "      <td>7.000000</td>\n",
       "      <td>0.000000</td>\n",
       "      <td>3.000000</td>\n",
       "      <td>1.000000</td>\n",
       "      <td>1.000000</td>\n",
       "      <td>20.465826</td>\n",
       "      <td>24.368225</td>\n",
       "      <td>62.625000</td>\n",
       "      <td>12.125325</td>\n",
       "      <td>717.000000</td>\n",
       "      <td>3664.500000</td>\n",
       "      <td>4548.500000</td>\n",
       "    </tr>\n",
       "    <tr>\n",
       "      <th>75%</th>\n",
       "      <td>547.750000</td>\n",
       "      <td>3.000000</td>\n",
       "      <td>1.000000</td>\n",
       "      <td>10.000000</td>\n",
       "      <td>0.000000</td>\n",
       "      <td>5.000000</td>\n",
       "      <td>1.000000</td>\n",
       "      <td>2.000000</td>\n",
       "      <td>26.880615</td>\n",
       "      <td>30.445775</td>\n",
       "      <td>72.989575</td>\n",
       "      <td>15.625589</td>\n",
       "      <td>1096.500000</td>\n",
       "      <td>4783.250000</td>\n",
       "      <td>5966.000000</td>\n",
       "    </tr>\n",
       "    <tr>\n",
       "      <th>max</th>\n",
       "      <td>730.000000</td>\n",
       "      <td>4.000000</td>\n",
       "      <td>1.000000</td>\n",
       "      <td>12.000000</td>\n",
       "      <td>1.000000</td>\n",
       "      <td>6.000000</td>\n",
       "      <td>1.000000</td>\n",
       "      <td>3.000000</td>\n",
       "      <td>35.328347</td>\n",
       "      <td>42.044800</td>\n",
       "      <td>97.250000</td>\n",
       "      <td>34.000021</td>\n",
       "      <td>3410.000000</td>\n",
       "      <td>6946.000000</td>\n",
       "      <td>8714.000000</td>\n",
       "    </tr>\n",
       "  </tbody>\n",
       "</table>\n",
       "</div>"
      ],
      "text/plain": [
       "          instant      season          yr        mnth     holiday     weekday  \\\n",
       "count  730.000000  730.000000  730.000000  730.000000  730.000000  730.000000   \n",
       "mean   365.500000    2.498630    0.500000    6.526027    0.028767    2.997260   \n",
       "std    210.877136    1.110184    0.500343    3.450215    0.167266    2.006161   \n",
       "min      1.000000    1.000000    0.000000    1.000000    0.000000    0.000000   \n",
       "25%    183.250000    2.000000    0.000000    4.000000    0.000000    1.000000   \n",
       "50%    365.500000    3.000000    0.500000    7.000000    0.000000    3.000000   \n",
       "75%    547.750000    3.000000    1.000000   10.000000    0.000000    5.000000   \n",
       "max    730.000000    4.000000    1.000000   12.000000    1.000000    6.000000   \n",
       "\n",
       "       workingday  weathersit        temp       atemp         hum   windspeed  \\\n",
       "count  730.000000  730.000000  730.000000  730.000000  730.000000  730.000000   \n",
       "mean     0.683562    1.394521   20.319259   23.726322   62.765175   12.763620   \n",
       "std      0.465405    0.544807    7.506729    8.150308   14.237589    5.195841   \n",
       "min      0.000000    1.000000    2.424346    3.953480    0.000000    1.500244   \n",
       "25%      0.000000    1.000000   13.811885   16.889713   52.000000    9.041650   \n",
       "50%      1.000000    1.000000   20.465826   24.368225   62.625000   12.125325   \n",
       "75%      1.000000    2.000000   26.880615   30.445775   72.989575   15.625589   \n",
       "max      1.000000    3.000000   35.328347   42.044800   97.250000   34.000021   \n",
       "\n",
       "            casual   registered          cnt  \n",
       "count   730.000000   730.000000   730.000000  \n",
       "mean    849.249315  3658.757534  4508.006849  \n",
       "std     686.479875  1559.758728  1936.011647  \n",
       "min       2.000000    20.000000    22.000000  \n",
       "25%     316.250000  2502.250000  3169.750000  \n",
       "50%     717.000000  3664.500000  4548.500000  \n",
       "75%    1096.500000  4783.250000  5966.000000  \n",
       "max    3410.000000  6946.000000  8714.000000  "
      ]
     },
     "execution_count": 6,
     "metadata": {},
     "output_type": "execute_result"
    }
   ],
   "source": [
    "#check the details of numerical data\n",
    "bikeSharing_df.describe()"
   ]
  },
  {
   "cell_type": "code",
   "execution_count": 7,
   "id": "8f85a904",
   "metadata": {},
   "outputs": [
    {
     "data": {
      "text/plain": [
       "Index(['instant', 'dteday', 'season', 'yr', 'mnth', 'holiday', 'weekday',\n",
       "       'workingday', 'weathersit', 'temp', 'atemp', 'hum', 'windspeed',\n",
       "       'casual', 'registered', 'cnt'],\n",
       "      dtype='object')"
      ]
     },
     "execution_count": 7,
     "metadata": {},
     "output_type": "execute_result"
    }
   ],
   "source": [
    "#check the columns of data\n",
    "bikeSharing_df.columns"
   ]
  },
  {
   "cell_type": "code",
   "execution_count": 8,
   "id": "7b06ab56",
   "metadata": {},
   "outputs": [
    {
     "data": {
      "text/plain": [
       "11680"
      ]
     },
     "execution_count": 8,
     "metadata": {},
     "output_type": "execute_result"
    }
   ],
   "source": [
    "#check the size of data\n",
    "bikeSharing_df.size"
   ]
  },
  {
   "cell_type": "code",
   "execution_count": 9,
   "id": "41066d4f",
   "metadata": {},
   "outputs": [
    {
     "data": {
      "text/plain": [
       "instant         int64\n",
       "dteday         object\n",
       "season          int64\n",
       "yr              int64\n",
       "mnth            int64\n",
       "holiday         int64\n",
       "weekday         int64\n",
       "workingday      int64\n",
       "weathersit      int64\n",
       "temp          float64\n",
       "atemp         float64\n",
       "hum           float64\n",
       "windspeed     float64\n",
       "casual          int64\n",
       "registered      int64\n",
       "cnt             int64\n",
       "dtype: object"
      ]
     },
     "execution_count": 9,
     "metadata": {},
     "output_type": "execute_result"
    }
   ],
   "source": [
    "#check the datatypes of data\n",
    "bikeSharing_df.dtypes"
   ]
  },
  {
   "cell_type": "code",
   "execution_count": 10,
   "id": "20833f0c",
   "metadata": {},
   "outputs": [
    {
     "data": {
      "text/plain": [
       "[RangeIndex(start=0, stop=730, step=1),\n",
       " Index(['instant', 'dteday', 'season', 'yr', 'mnth', 'holiday', 'weekday',\n",
       "        'workingday', 'weathersit', 'temp', 'atemp', 'hum', 'windspeed',\n",
       "        'casual', 'registered', 'cnt'],\n",
       "       dtype='object')]"
      ]
     },
     "execution_count": 10,
     "metadata": {},
     "output_type": "execute_result"
    }
   ],
   "source": [
    "#check the axes of data\n",
    "bikeSharing_df.axes"
   ]
  },
  {
   "cell_type": "code",
   "execution_count": 11,
   "id": "0831b418",
   "metadata": {},
   "outputs": [
    {
     "data": {
      "text/plain": [
       "2"
      ]
     },
     "execution_count": 11,
     "metadata": {},
     "output_type": "execute_result"
    }
   ],
   "source": [
    "#check the dimensions of data\n",
    "bikeSharing_df.ndim"
   ]
  },
  {
   "cell_type": "code",
   "execution_count": 12,
   "id": "bcfd3ed8",
   "metadata": {},
   "outputs": [
    {
     "data": {
      "text/plain": [
       "array([[1, '01-01-2018', 1, ..., 331, 654, 985],\n",
       "       [2, '02-01-2018', 1, ..., 131, 670, 801],\n",
       "       [3, '03-01-2018', 1, ..., 120, 1229, 1349],\n",
       "       ...,\n",
       "       [728, '29-12-2019', 1, ..., 159, 1182, 1341],\n",
       "       [729, '30-12-2019', 1, ..., 364, 1432, 1796],\n",
       "       [730, '31-12-2019', 1, ..., 439, 2290, 2729]], dtype=object)"
      ]
     },
     "execution_count": 12,
     "metadata": {},
     "output_type": "execute_result"
    }
   ],
   "source": [
    "#check the values of data\n",
    "bikeSharing_df.values"
   ]
  },
  {
   "cell_type": "markdown",
   "id": "54a3a06c",
   "metadata": {},
   "source": [
    "#### There are 730 rows and 16 columns in the data set. There are no null values in any of the columns."
   ]
  },
  {
   "cell_type": "markdown",
   "id": "21077330",
   "metadata": {},
   "source": [
    "# Step3: Cleaning Data"
   ]
  },
  {
   "cell_type": "markdown",
   "id": "301fecc2",
   "metadata": {},
   "source": [
    "### 3.1 Drop columns that are not useful for analysis"
   ]
  },
  {
   "cell_type": "markdown",
   "id": "750ee8b1",
   "metadata": {},
   "source": [
    "- `instant` is just a row instance identifier.\n",
    "- `dteday` is removed as we have some of date features like `mnth` and `year` and `weekday` already in other columns and also for this analysis we will not consider day to day trend in demand for bikes.\n",
    "- `casual` and `registered` variables are not available at the time of prediction and also these describe the target variable `cnt` in a very trivial way `target = casual + registered`, which leads to data leakage."
   ]
  },
  {
   "cell_type": "code",
   "execution_count": 13,
   "id": "6186d114",
   "metadata": {},
   "outputs": [],
   "source": [
    "#Before dropping date, let us introduce a days_old variable which indicates how old is the business\n",
    "bikeSharing_df['days_old'] = (pd.to_datetime(bikeSharing_df['dteday'],format= '%d-%m-%Y') - pd.to_datetime('01-01-2018',format= '%d-%m-%Y')).dt.days"
   ]
  },
  {
   "cell_type": "code",
   "execution_count": 14,
   "id": "ef53db41",
   "metadata": {},
   "outputs": [
    {
     "data": {
      "text/html": [
       "<div>\n",
       "<style scoped>\n",
       "    .dataframe tbody tr th:only-of-type {\n",
       "        vertical-align: middle;\n",
       "    }\n",
       "\n",
       "    .dataframe tbody tr th {\n",
       "        vertical-align: top;\n",
       "    }\n",
       "\n",
       "    .dataframe thead th {\n",
       "        text-align: right;\n",
       "    }\n",
       "</style>\n",
       "<table border=\"1\" class=\"dataframe\">\n",
       "  <thead>\n",
       "    <tr style=\"text-align: right;\">\n",
       "      <th></th>\n",
       "      <th>instant</th>\n",
       "      <th>dteday</th>\n",
       "      <th>season</th>\n",
       "      <th>yr</th>\n",
       "      <th>mnth</th>\n",
       "      <th>holiday</th>\n",
       "      <th>weekday</th>\n",
       "      <th>workingday</th>\n",
       "      <th>weathersit</th>\n",
       "      <th>temp</th>\n",
       "      <th>atemp</th>\n",
       "      <th>hum</th>\n",
       "      <th>windspeed</th>\n",
       "      <th>casual</th>\n",
       "      <th>registered</th>\n",
       "      <th>cnt</th>\n",
       "      <th>days_old</th>\n",
       "    </tr>\n",
       "  </thead>\n",
       "  <tbody>\n",
       "    <tr>\n",
       "      <th>0</th>\n",
       "      <td>1</td>\n",
       "      <td>01-01-2018</td>\n",
       "      <td>1</td>\n",
       "      <td>0</td>\n",
       "      <td>1</td>\n",
       "      <td>0</td>\n",
       "      <td>6</td>\n",
       "      <td>0</td>\n",
       "      <td>2</td>\n",
       "      <td>14.110847</td>\n",
       "      <td>18.18125</td>\n",
       "      <td>80.5833</td>\n",
       "      <td>10.749882</td>\n",
       "      <td>331</td>\n",
       "      <td>654</td>\n",
       "      <td>985</td>\n",
       "      <td>0</td>\n",
       "    </tr>\n",
       "    <tr>\n",
       "      <th>1</th>\n",
       "      <td>2</td>\n",
       "      <td>02-01-2018</td>\n",
       "      <td>1</td>\n",
       "      <td>0</td>\n",
       "      <td>1</td>\n",
       "      <td>0</td>\n",
       "      <td>0</td>\n",
       "      <td>0</td>\n",
       "      <td>2</td>\n",
       "      <td>14.902598</td>\n",
       "      <td>17.68695</td>\n",
       "      <td>69.6087</td>\n",
       "      <td>16.652113</td>\n",
       "      <td>131</td>\n",
       "      <td>670</td>\n",
       "      <td>801</td>\n",
       "      <td>1</td>\n",
       "    </tr>\n",
       "    <tr>\n",
       "      <th>2</th>\n",
       "      <td>3</td>\n",
       "      <td>03-01-2018</td>\n",
       "      <td>1</td>\n",
       "      <td>0</td>\n",
       "      <td>1</td>\n",
       "      <td>0</td>\n",
       "      <td>1</td>\n",
       "      <td>1</td>\n",
       "      <td>1</td>\n",
       "      <td>8.050924</td>\n",
       "      <td>9.47025</td>\n",
       "      <td>43.7273</td>\n",
       "      <td>16.636703</td>\n",
       "      <td>120</td>\n",
       "      <td>1229</td>\n",
       "      <td>1349</td>\n",
       "      <td>2</td>\n",
       "    </tr>\n",
       "    <tr>\n",
       "      <th>3</th>\n",
       "      <td>4</td>\n",
       "      <td>04-01-2018</td>\n",
       "      <td>1</td>\n",
       "      <td>0</td>\n",
       "      <td>1</td>\n",
       "      <td>0</td>\n",
       "      <td>2</td>\n",
       "      <td>1</td>\n",
       "      <td>1</td>\n",
       "      <td>8.200000</td>\n",
       "      <td>10.60610</td>\n",
       "      <td>59.0435</td>\n",
       "      <td>10.739832</td>\n",
       "      <td>108</td>\n",
       "      <td>1454</td>\n",
       "      <td>1562</td>\n",
       "      <td>3</td>\n",
       "    </tr>\n",
       "    <tr>\n",
       "      <th>4</th>\n",
       "      <td>5</td>\n",
       "      <td>05-01-2018</td>\n",
       "      <td>1</td>\n",
       "      <td>0</td>\n",
       "      <td>1</td>\n",
       "      <td>0</td>\n",
       "      <td>3</td>\n",
       "      <td>1</td>\n",
       "      <td>1</td>\n",
       "      <td>9.305237</td>\n",
       "      <td>11.46350</td>\n",
       "      <td>43.6957</td>\n",
       "      <td>12.522300</td>\n",
       "      <td>82</td>\n",
       "      <td>1518</td>\n",
       "      <td>1600</td>\n",
       "      <td>4</td>\n",
       "    </tr>\n",
       "  </tbody>\n",
       "</table>\n",
       "</div>"
      ],
      "text/plain": [
       "   instant      dteday  season  yr  mnth  holiday  weekday  workingday  \\\n",
       "0        1  01-01-2018       1   0     1        0        6           0   \n",
       "1        2  02-01-2018       1   0     1        0        0           0   \n",
       "2        3  03-01-2018       1   0     1        0        1           1   \n",
       "3        4  04-01-2018       1   0     1        0        2           1   \n",
       "4        5  05-01-2018       1   0     1        0        3           1   \n",
       "\n",
       "   weathersit       temp     atemp      hum  windspeed  casual  registered  \\\n",
       "0           2  14.110847  18.18125  80.5833  10.749882     331         654   \n",
       "1           2  14.902598  17.68695  69.6087  16.652113     131         670   \n",
       "2           1   8.050924   9.47025  43.7273  16.636703     120        1229   \n",
       "3           1   8.200000  10.60610  59.0435  10.739832     108        1454   \n",
       "4           1   9.305237  11.46350  43.6957  12.522300      82        1518   \n",
       "\n",
       "    cnt  days_old  \n",
       "0   985         0  \n",
       "1   801         1  \n",
       "2  1349         2  \n",
       "3  1562         3  \n",
       "4  1600         4  "
      ]
     },
     "execution_count": 14,
     "metadata": {},
     "output_type": "execute_result"
    }
   ],
   "source": [
    "#Inspect once\n",
    "bikeSharing_df.head()"
   ]
  },
  {
   "cell_type": "code",
   "execution_count": 15,
   "id": "442de25a",
   "metadata": {},
   "outputs": [],
   "source": [
    "# Droping instant column as it is index column which has nothing to do with target\n",
    "bikeSharing_df.drop(['instant'], axis = 1, inplace = True)\n",
    "\n",
    "# Dropping dteday as we have already have month and weekday columns to work with\n",
    "bikeSharing_df.drop(['dteday'], axis = 1, inplace = True)\n",
    "\n",
    "# Dropping casual and registered columnsa as as we have cnt column which is sum of the both that is the target column\n",
    "\n",
    "bikeSharing_df.drop(['casual'], axis = 1, inplace = True)\n",
    "bikeSharing_df.drop(['registered'], axis = 1, inplace = True)"
   ]
  },
  {
   "cell_type": "code",
   "execution_count": 16,
   "id": "5897e536",
   "metadata": {},
   "outputs": [
    {
     "data": {
      "text/html": [
       "<div>\n",
       "<style scoped>\n",
       "    .dataframe tbody tr th:only-of-type {\n",
       "        vertical-align: middle;\n",
       "    }\n",
       "\n",
       "    .dataframe tbody tr th {\n",
       "        vertical-align: top;\n",
       "    }\n",
       "\n",
       "    .dataframe thead th {\n",
       "        text-align: right;\n",
       "    }\n",
       "</style>\n",
       "<table border=\"1\" class=\"dataframe\">\n",
       "  <thead>\n",
       "    <tr style=\"text-align: right;\">\n",
       "      <th></th>\n",
       "      <th>season</th>\n",
       "      <th>yr</th>\n",
       "      <th>mnth</th>\n",
       "      <th>holiday</th>\n",
       "      <th>weekday</th>\n",
       "      <th>workingday</th>\n",
       "      <th>weathersit</th>\n",
       "      <th>temp</th>\n",
       "      <th>atemp</th>\n",
       "      <th>hum</th>\n",
       "      <th>windspeed</th>\n",
       "      <th>cnt</th>\n",
       "      <th>days_old</th>\n",
       "    </tr>\n",
       "  </thead>\n",
       "  <tbody>\n",
       "    <tr>\n",
       "      <th>0</th>\n",
       "      <td>1</td>\n",
       "      <td>0</td>\n",
       "      <td>1</td>\n",
       "      <td>0</td>\n",
       "      <td>6</td>\n",
       "      <td>0</td>\n",
       "      <td>2</td>\n",
       "      <td>14.110847</td>\n",
       "      <td>18.18125</td>\n",
       "      <td>80.5833</td>\n",
       "      <td>10.749882</td>\n",
       "      <td>985</td>\n",
       "      <td>0</td>\n",
       "    </tr>\n",
       "    <tr>\n",
       "      <th>1</th>\n",
       "      <td>1</td>\n",
       "      <td>0</td>\n",
       "      <td>1</td>\n",
       "      <td>0</td>\n",
       "      <td>0</td>\n",
       "      <td>0</td>\n",
       "      <td>2</td>\n",
       "      <td>14.902598</td>\n",
       "      <td>17.68695</td>\n",
       "      <td>69.6087</td>\n",
       "      <td>16.652113</td>\n",
       "      <td>801</td>\n",
       "      <td>1</td>\n",
       "    </tr>\n",
       "    <tr>\n",
       "      <th>2</th>\n",
       "      <td>1</td>\n",
       "      <td>0</td>\n",
       "      <td>1</td>\n",
       "      <td>0</td>\n",
       "      <td>1</td>\n",
       "      <td>1</td>\n",
       "      <td>1</td>\n",
       "      <td>8.050924</td>\n",
       "      <td>9.47025</td>\n",
       "      <td>43.7273</td>\n",
       "      <td>16.636703</td>\n",
       "      <td>1349</td>\n",
       "      <td>2</td>\n",
       "    </tr>\n",
       "    <tr>\n",
       "      <th>3</th>\n",
       "      <td>1</td>\n",
       "      <td>0</td>\n",
       "      <td>1</td>\n",
       "      <td>0</td>\n",
       "      <td>2</td>\n",
       "      <td>1</td>\n",
       "      <td>1</td>\n",
       "      <td>8.200000</td>\n",
       "      <td>10.60610</td>\n",
       "      <td>59.0435</td>\n",
       "      <td>10.739832</td>\n",
       "      <td>1562</td>\n",
       "      <td>3</td>\n",
       "    </tr>\n",
       "    <tr>\n",
       "      <th>4</th>\n",
       "      <td>1</td>\n",
       "      <td>0</td>\n",
       "      <td>1</td>\n",
       "      <td>0</td>\n",
       "      <td>3</td>\n",
       "      <td>1</td>\n",
       "      <td>1</td>\n",
       "      <td>9.305237</td>\n",
       "      <td>11.46350</td>\n",
       "      <td>43.6957</td>\n",
       "      <td>12.522300</td>\n",
       "      <td>1600</td>\n",
       "      <td>4</td>\n",
       "    </tr>\n",
       "  </tbody>\n",
       "</table>\n",
       "</div>"
      ],
      "text/plain": [
       "   season  yr  mnth  holiday  weekday  workingday  weathersit       temp  \\\n",
       "0       1   0     1        0        6           0           2  14.110847   \n",
       "1       1   0     1        0        0           0           2  14.902598   \n",
       "2       1   0     1        0        1           1           1   8.050924   \n",
       "3       1   0     1        0        2           1           1   8.200000   \n",
       "4       1   0     1        0        3           1           1   9.305237   \n",
       "\n",
       "      atemp      hum  windspeed   cnt  days_old  \n",
       "0  18.18125  80.5833  10.749882   985         0  \n",
       "1  17.68695  69.6087  16.652113   801         1  \n",
       "2   9.47025  43.7273  16.636703  1349         2  \n",
       "3  10.60610  59.0435  10.739832  1562         3  \n",
       "4  11.46350  43.6957  12.522300  1600         4  "
      ]
     },
     "execution_count": 16,
     "metadata": {},
     "output_type": "execute_result"
    }
   ],
   "source": [
    "#Inspect data frame after dropping\n",
    "bikeSharing_df.head()"
   ]
  },
  {
   "cell_type": "code",
   "execution_count": 17,
   "id": "21485a20",
   "metadata": {},
   "outputs": [
    {
     "name": "stdout",
     "output_type": "stream",
     "text": [
      "<class 'pandas.core.frame.DataFrame'>\n",
      "RangeIndex: 730 entries, 0 to 729\n",
      "Data columns (total 13 columns):\n",
      " #   Column      Non-Null Count  Dtype  \n",
      "---  ------      --------------  -----  \n",
      " 0   season      730 non-null    int64  \n",
      " 1   yr          730 non-null    int64  \n",
      " 2   mnth        730 non-null    int64  \n",
      " 3   holiday     730 non-null    int64  \n",
      " 4   weekday     730 non-null    int64  \n",
      " 5   workingday  730 non-null    int64  \n",
      " 6   weathersit  730 non-null    int64  \n",
      " 7   temp        730 non-null    float64\n",
      " 8   atemp       730 non-null    float64\n",
      " 9   hum         730 non-null    float64\n",
      " 10  windspeed   730 non-null    float64\n",
      " 11  cnt         730 non-null    int64  \n",
      " 12  days_old    730 non-null    int64  \n",
      "dtypes: float64(4), int64(9)\n",
      "memory usage: 74.3 KB\n"
     ]
    }
   ],
   "source": [
    "bikeSharing_df.info()"
   ]
  },
  {
   "cell_type": "code",
   "execution_count": 18,
   "id": "fc3716f0",
   "metadata": {},
   "outputs": [
    {
     "data": {
      "text/plain": [
       "3    188\n",
       "2    184\n",
       "1    180\n",
       "4    178\n",
       "Name: season, dtype: int64"
      ]
     },
     "execution_count": 18,
     "metadata": {},
     "output_type": "execute_result"
    }
   ],
   "source": [
    "bikeSharing_df.season.value_counts()"
   ]
  },
  {
   "cell_type": "code",
   "execution_count": 19,
   "id": "46453cef",
   "metadata": {},
   "outputs": [
    {
     "data": {
      "text/plain": [
       "1    463\n",
       "2    246\n",
       "3     21\n",
       "Name: weathersit, dtype: int64"
      ]
     },
     "execution_count": 19,
     "metadata": {},
     "output_type": "execute_result"
    }
   ],
   "source": [
    "bikeSharing_df.weathersit.value_counts()"
   ]
  },
  {
   "cell_type": "code",
   "execution_count": 20,
   "id": "23e41e56",
   "metadata": {},
   "outputs": [
    {
     "data": {
      "text/html": [
       "<div>\n",
       "<style scoped>\n",
       "    .dataframe tbody tr th:only-of-type {\n",
       "        vertical-align: middle;\n",
       "    }\n",
       "\n",
       "    .dataframe tbody tr th {\n",
       "        vertical-align: top;\n",
       "    }\n",
       "\n",
       "    .dataframe thead th {\n",
       "        text-align: right;\n",
       "    }\n",
       "</style>\n",
       "<table border=\"1\" class=\"dataframe\">\n",
       "  <thead>\n",
       "    <tr style=\"text-align: right;\">\n",
       "      <th></th>\n",
       "      <th>season</th>\n",
       "      <th>yr</th>\n",
       "      <th>mnth</th>\n",
       "      <th>holiday</th>\n",
       "      <th>weekday</th>\n",
       "      <th>workingday</th>\n",
       "      <th>weathersit</th>\n",
       "      <th>temp</th>\n",
       "      <th>atemp</th>\n",
       "      <th>hum</th>\n",
       "      <th>windspeed</th>\n",
       "      <th>cnt</th>\n",
       "      <th>days_old</th>\n",
       "    </tr>\n",
       "  </thead>\n",
       "  <tbody>\n",
       "    <tr>\n",
       "      <th>season</th>\n",
       "      <td>1.000000e+00</td>\n",
       "      <td>-3.279074e-16</td>\n",
       "      <td>8.310321e-01</td>\n",
       "      <td>-0.010868</td>\n",
       "      <td>-0.003081</td>\n",
       "      <td>0.013762</td>\n",
       "      <td>0.021306</td>\n",
       "      <td>0.333361</td>\n",
       "      <td>0.342014</td>\n",
       "      <td>0.208220</td>\n",
       "      <td>-0.229607</td>\n",
       "      <td>0.404584</td>\n",
       "      <td>0.413587</td>\n",
       "    </tr>\n",
       "    <tr>\n",
       "      <th>yr</th>\n",
       "      <td>-3.279074e-16</td>\n",
       "      <td>1.000000e+00</td>\n",
       "      <td>-5.162656e-16</td>\n",
       "      <td>0.008195</td>\n",
       "      <td>-0.005466</td>\n",
       "      <td>-0.002945</td>\n",
       "      <td>-0.050322</td>\n",
       "      <td>0.048789</td>\n",
       "      <td>0.047215</td>\n",
       "      <td>-0.112547</td>\n",
       "      <td>-0.011624</td>\n",
       "      <td>0.569728</td>\n",
       "      <td>0.866026</td>\n",
       "    </tr>\n",
       "    <tr>\n",
       "      <th>mnth</th>\n",
       "      <td>8.310321e-01</td>\n",
       "      <td>-5.162656e-16</td>\n",
       "      <td>1.000000e+00</td>\n",
       "      <td>0.018905</td>\n",
       "      <td>0.009523</td>\n",
       "      <td>-0.004688</td>\n",
       "      <td>0.045613</td>\n",
       "      <td>0.219083</td>\n",
       "      <td>0.226430</td>\n",
       "      <td>0.224937</td>\n",
       "      <td>-0.208013</td>\n",
       "      <td>0.278191</td>\n",
       "      <td>0.498251</td>\n",
       "    </tr>\n",
       "    <tr>\n",
       "      <th>holiday</th>\n",
       "      <td>-1.086804e-02</td>\n",
       "      <td>8.195345e-03</td>\n",
       "      <td>1.890483e-02</td>\n",
       "      <td>1.000000</td>\n",
       "      <td>-0.101962</td>\n",
       "      <td>-0.252948</td>\n",
       "      <td>-0.034395</td>\n",
       "      <td>-0.028764</td>\n",
       "      <td>-0.032703</td>\n",
       "      <td>-0.015662</td>\n",
       "      <td>0.006257</td>\n",
       "      <td>-0.068764</td>\n",
       "      <td>0.016275</td>\n",
       "    </tr>\n",
       "    <tr>\n",
       "      <th>weekday</th>\n",
       "      <td>-3.081198e-03</td>\n",
       "      <td>-5.466369e-03</td>\n",
       "      <td>9.522969e-03</td>\n",
       "      <td>-0.101962</td>\n",
       "      <td>1.000000</td>\n",
       "      <td>0.035800</td>\n",
       "      <td>0.031112</td>\n",
       "      <td>-0.000168</td>\n",
       "      <td>-0.007539</td>\n",
       "      <td>-0.052290</td>\n",
       "      <td>0.014283</td>\n",
       "      <td>0.067534</td>\n",
       "      <td>-0.000023</td>\n",
       "    </tr>\n",
       "    <tr>\n",
       "      <th>workingday</th>\n",
       "      <td>1.376178e-02</td>\n",
       "      <td>-2.945396e-03</td>\n",
       "      <td>-4.687953e-03</td>\n",
       "      <td>-0.252948</td>\n",
       "      <td>0.035800</td>\n",
       "      <td>1.000000</td>\n",
       "      <td>0.060236</td>\n",
       "      <td>0.053470</td>\n",
       "      <td>0.052940</td>\n",
       "      <td>0.023202</td>\n",
       "      <td>-0.018666</td>\n",
       "      <td>0.062542</td>\n",
       "      <td>-0.004619</td>\n",
       "    </tr>\n",
       "    <tr>\n",
       "      <th>weathersit</th>\n",
       "      <td>2.130636e-02</td>\n",
       "      <td>-5.032247e-02</td>\n",
       "      <td>4.561335e-02</td>\n",
       "      <td>-0.034395</td>\n",
       "      <td>0.031112</td>\n",
       "      <td>0.060236</td>\n",
       "      <td>1.000000</td>\n",
       "      <td>-0.119503</td>\n",
       "      <td>-0.120559</td>\n",
       "      <td>0.590277</td>\n",
       "      <td>0.039769</td>\n",
       "      <td>-0.295929</td>\n",
       "      <td>-0.021862</td>\n",
       "    </tr>\n",
       "    <tr>\n",
       "      <th>temp</th>\n",
       "      <td>3.333607e-01</td>\n",
       "      <td>4.878919e-02</td>\n",
       "      <td>2.190833e-01</td>\n",
       "      <td>-0.028764</td>\n",
       "      <td>-0.000168</td>\n",
       "      <td>0.053470</td>\n",
       "      <td>-0.119503</td>\n",
       "      <td>1.000000</td>\n",
       "      <td>0.991696</td>\n",
       "      <td>0.128565</td>\n",
       "      <td>-0.158186</td>\n",
       "      <td>0.627044</td>\n",
       "      <td>0.150738</td>\n",
       "    </tr>\n",
       "    <tr>\n",
       "      <th>atemp</th>\n",
       "      <td>3.420139e-01</td>\n",
       "      <td>4.721519e-02</td>\n",
       "      <td>2.264302e-01</td>\n",
       "      <td>-0.032703</td>\n",
       "      <td>-0.007539</td>\n",
       "      <td>0.052940</td>\n",
       "      <td>-0.120559</td>\n",
       "      <td>0.991696</td>\n",
       "      <td>1.000000</td>\n",
       "      <td>0.141512</td>\n",
       "      <td>-0.183876</td>\n",
       "      <td>0.630685</td>\n",
       "      <td>0.152773</td>\n",
       "    </tr>\n",
       "    <tr>\n",
       "      <th>hum</th>\n",
       "      <td>2.082196e-01</td>\n",
       "      <td>-1.125471e-01</td>\n",
       "      <td>2.249368e-01</td>\n",
       "      <td>-0.015662</td>\n",
       "      <td>-0.052290</td>\n",
       "      <td>0.023202</td>\n",
       "      <td>0.590277</td>\n",
       "      <td>0.128565</td>\n",
       "      <td>0.141512</td>\n",
       "      <td>1.000000</td>\n",
       "      <td>-0.248506</td>\n",
       "      <td>-0.098543</td>\n",
       "      <td>0.016080</td>\n",
       "    </tr>\n",
       "    <tr>\n",
       "      <th>windspeed</th>\n",
       "      <td>-2.296069e-01</td>\n",
       "      <td>-1.162435e-02</td>\n",
       "      <td>-2.080131e-01</td>\n",
       "      <td>0.006257</td>\n",
       "      <td>0.014283</td>\n",
       "      <td>-0.018666</td>\n",
       "      <td>0.039769</td>\n",
       "      <td>-0.158186</td>\n",
       "      <td>-0.183876</td>\n",
       "      <td>-0.248506</td>\n",
       "      <td>1.000000</td>\n",
       "      <td>-0.235132</td>\n",
       "      <td>-0.112667</td>\n",
       "    </tr>\n",
       "    <tr>\n",
       "      <th>cnt</th>\n",
       "      <td>4.045838e-01</td>\n",
       "      <td>5.697285e-01</td>\n",
       "      <td>2.781909e-01</td>\n",
       "      <td>-0.068764</td>\n",
       "      <td>0.067534</td>\n",
       "      <td>0.062542</td>\n",
       "      <td>-0.295929</td>\n",
       "      <td>0.627044</td>\n",
       "      <td>0.630685</td>\n",
       "      <td>-0.098543</td>\n",
       "      <td>-0.235132</td>\n",
       "      <td>1.000000</td>\n",
       "      <td>0.629896</td>\n",
       "    </tr>\n",
       "    <tr>\n",
       "      <th>days_old</th>\n",
       "      <td>4.135867e-01</td>\n",
       "      <td>8.660262e-01</td>\n",
       "      <td>4.982507e-01</td>\n",
       "      <td>0.016275</td>\n",
       "      <td>-0.000023</td>\n",
       "      <td>-0.004619</td>\n",
       "      <td>-0.021862</td>\n",
       "      <td>0.150738</td>\n",
       "      <td>0.152773</td>\n",
       "      <td>0.016080</td>\n",
       "      <td>-0.112667</td>\n",
       "      <td>0.629896</td>\n",
       "      <td>1.000000</td>\n",
       "    </tr>\n",
       "  </tbody>\n",
       "</table>\n",
       "</div>"
      ],
      "text/plain": [
       "                  season            yr          mnth   holiday   weekday  \\\n",
       "season      1.000000e+00 -3.279074e-16  8.310321e-01 -0.010868 -0.003081   \n",
       "yr         -3.279074e-16  1.000000e+00 -5.162656e-16  0.008195 -0.005466   \n",
       "mnth        8.310321e-01 -5.162656e-16  1.000000e+00  0.018905  0.009523   \n",
       "holiday    -1.086804e-02  8.195345e-03  1.890483e-02  1.000000 -0.101962   \n",
       "weekday    -3.081198e-03 -5.466369e-03  9.522969e-03 -0.101962  1.000000   \n",
       "workingday  1.376178e-02 -2.945396e-03 -4.687953e-03 -0.252948  0.035800   \n",
       "weathersit  2.130636e-02 -5.032247e-02  4.561335e-02 -0.034395  0.031112   \n",
       "temp        3.333607e-01  4.878919e-02  2.190833e-01 -0.028764 -0.000168   \n",
       "atemp       3.420139e-01  4.721519e-02  2.264302e-01 -0.032703 -0.007539   \n",
       "hum         2.082196e-01 -1.125471e-01  2.249368e-01 -0.015662 -0.052290   \n",
       "windspeed  -2.296069e-01 -1.162435e-02 -2.080131e-01  0.006257  0.014283   \n",
       "cnt         4.045838e-01  5.697285e-01  2.781909e-01 -0.068764  0.067534   \n",
       "days_old    4.135867e-01  8.660262e-01  4.982507e-01  0.016275 -0.000023   \n",
       "\n",
       "            workingday  weathersit      temp     atemp       hum  windspeed  \\\n",
       "season        0.013762    0.021306  0.333361  0.342014  0.208220  -0.229607   \n",
       "yr           -0.002945   -0.050322  0.048789  0.047215 -0.112547  -0.011624   \n",
       "mnth         -0.004688    0.045613  0.219083  0.226430  0.224937  -0.208013   \n",
       "holiday      -0.252948   -0.034395 -0.028764 -0.032703 -0.015662   0.006257   \n",
       "weekday       0.035800    0.031112 -0.000168 -0.007539 -0.052290   0.014283   \n",
       "workingday    1.000000    0.060236  0.053470  0.052940  0.023202  -0.018666   \n",
       "weathersit    0.060236    1.000000 -0.119503 -0.120559  0.590277   0.039769   \n",
       "temp          0.053470   -0.119503  1.000000  0.991696  0.128565  -0.158186   \n",
       "atemp         0.052940   -0.120559  0.991696  1.000000  0.141512  -0.183876   \n",
       "hum           0.023202    0.590277  0.128565  0.141512  1.000000  -0.248506   \n",
       "windspeed    -0.018666    0.039769 -0.158186 -0.183876 -0.248506   1.000000   \n",
       "cnt           0.062542   -0.295929  0.627044  0.630685 -0.098543  -0.235132   \n",
       "days_old     -0.004619   -0.021862  0.150738  0.152773  0.016080  -0.112667   \n",
       "\n",
       "                 cnt  days_old  \n",
       "season      0.404584  0.413587  \n",
       "yr          0.569728  0.866026  \n",
       "mnth        0.278191  0.498251  \n",
       "holiday    -0.068764  0.016275  \n",
       "weekday     0.067534 -0.000023  \n",
       "workingday  0.062542 -0.004619  \n",
       "weathersit -0.295929 -0.021862  \n",
       "temp        0.627044  0.150738  \n",
       "atemp       0.630685  0.152773  \n",
       "hum        -0.098543  0.016080  \n",
       "windspeed  -0.235132 -0.112667  \n",
       "cnt         1.000000  0.629896  \n",
       "days_old    0.629896  1.000000  "
      ]
     },
     "execution_count": 20,
     "metadata": {},
     "output_type": "execute_result"
    }
   ],
   "source": [
    "bikeSharing_df.corr()"
   ]
  },
  {
   "cell_type": "markdown",
   "id": "b22d0c5c",
   "metadata": {},
   "source": [
    "- we can see that features like `season, mnth, weekday and  weathersit` are integers although they should be non-numerical categories."
   ]
  },
  {
   "cell_type": "markdown",
   "id": "9800a551",
   "metadata": {},
   "source": [
    "### 3.2 Handle Missing values"
   ]
  },
  {
   "cell_type": "markdown",
   "id": "fd3fb0e6",
   "metadata": {},
   "source": [
    "#### As we have already seen there are no missing values. However, let us verify it again"
   ]
  },
  {
   "cell_type": "code",
   "execution_count": 21,
   "id": "52c65cf8",
   "metadata": {},
   "outputs": [
    {
     "data": {
      "text/plain": [
       "season        0\n",
       "yr            0\n",
       "mnth          0\n",
       "holiday       0\n",
       "weekday       0\n",
       "workingday    0\n",
       "weathersit    0\n",
       "temp          0\n",
       "atemp         0\n",
       "hum           0\n",
       "windspeed     0\n",
       "cnt           0\n",
       "days_old      0\n",
       "dtype: int64"
      ]
     },
     "execution_count": 21,
     "metadata": {},
     "output_type": "execute_result"
    }
   ],
   "source": [
    "#Print null counts by column\n",
    "bikeSharing_df.isnull().sum()"
   ]
  },
  {
   "cell_type": "markdown",
   "id": "428332cd",
   "metadata": {},
   "source": [
    "#### _`Inference`_: There are no null values."
   ]
  },
  {
   "cell_type": "markdown",
   "id": "78eb0311",
   "metadata": {},
   "source": [
    "### 3.3 Handle Outliers"
   ]
  },
  {
   "cell_type": "code",
   "execution_count": 22,
   "id": "28c9c498",
   "metadata": {},
   "outputs": [
    {
     "data": {
      "text/plain": [
       "Index(['season', 'yr', 'mnth', 'holiday', 'weekday', 'workingday',\n",
       "       'weathersit', 'temp', 'atemp', 'hum', 'windspeed', 'cnt', 'days_old'],\n",
       "      dtype='object')"
      ]
     },
     "execution_count": 22,
     "metadata": {},
     "output_type": "execute_result"
    }
   ],
   "source": [
    "### Handle Outliers\n",
    "bikeSharing_df.columns"
   ]
  },
  {
   "cell_type": "code",
   "execution_count": 23,
   "id": "b3cbed56",
   "metadata": {},
   "outputs": [
    {
     "data": {
      "text/plain": [
       "season          4\n",
       "yr              2\n",
       "mnth           12\n",
       "holiday         2\n",
       "weekday         7\n",
       "workingday      2\n",
       "weathersit      3\n",
       "temp          498\n",
       "atemp         689\n",
       "hum           594\n",
       "windspeed     649\n",
       "cnt           695\n",
       "days_old      730\n",
       "dtype: int64"
      ]
     },
     "execution_count": 23,
     "metadata": {},
     "output_type": "execute_result"
    }
   ],
   "source": [
    "#Print number of unique values in all columns\n",
    "bikeSharing_df.nunique()"
   ]
  },
  {
   "cell_type": "code",
   "execution_count": null,
   "id": "319d2d62",
   "metadata": {},
   "outputs": [],
   "source": [
    "# Draw box plots for indepent variables with continuous values\n",
    "cols = ['temp', 'atemp', 'hum', 'windspeed']\n",
    "plt.figure(figsize=(18,4))\n",
    "\n",
    "i = 1\n",
    "for col in cols:\n",
    "    plt.subplot(1,4,i)\n",
    "    sns.boxplot(y=col, data=bikeSharing_df)\n",
    "    i+=1"
   ]
  },
  {
   "cell_type": "markdown",
   "id": "b6521263",
   "metadata": {},
   "source": [
    "#### From these plots, we can see there are no outliers to be handled. We are good with not having any outliers in the data set"
   ]
  },
  {
   "cell_type": "markdown",
   "id": "66b238ca",
   "metadata": {},
   "source": [
    "# 4. EDA"
   ]
  },
  {
   "cell_type": "markdown",
   "id": "41f31e1f",
   "metadata": {},
   "source": [
    "#### 4.1 Convert season and  weathersit to categorical types"
   ]
  },
  {
   "cell_type": "code",
   "execution_count": null,
   "id": "794de461",
   "metadata": {},
   "outputs": [],
   "source": [
    "bikeSharing_df.season.replace({1:\"spring\", 2:\"summer\", 3:\"fall\", 4:\"winter\"},inplace = True)\n",
    "\n",
    "bikeSharing_df.weathersit.replace({1:'good',2:'moderate',3:'bad',4:'severe'},inplace = True)\n",
    "\n",
    "bikeSharing_df.mnth = bikeSharing_df.mnth.replace({1: 'jan',2: 'feb',3: 'mar',4: 'apr',5: 'may',6: 'jun',\n",
    "                  7: 'jul',8: 'aug',9: 'sept',10: 'oct',11: 'nov',12: 'dec'})\n",
    "\n",
    "bikeSharing_df.weekday = bikeSharing_df.weekday.replace({0: 'sun',1: 'mon',2: 'tue',3: 'wed',4: 'thu',5: 'fri',6: 'sat'})\n",
    "bikeSharing_df.head()"
   ]
  },
  {
   "cell_type": "markdown",
   "id": "f8c56169",
   "metadata": {},
   "source": [
    "#### 4.2 Draw pair Plots to check the linear relationship"
   ]
  },
  {
   "cell_type": "code",
   "execution_count": null,
   "id": "b59afc18",
   "metadata": {},
   "outputs": [],
   "source": [
    "#Draw pairplots for continuous numeric variables using seaborn\n",
    "plt.figure(figsize = (15,30))\n",
    "sns.pairplot(data=bikeSharing_df,vars=['cnt', 'temp', 'atemp', 'hum','windspeed'])\n",
    "plt.show()"
   ]
  },
  {
   "cell_type": "markdown",
   "id": "ab360271",
   "metadata": {},
   "source": [
    "#### _`Inference`_: \n",
    "- Looks like the temp and atemp has the highest corelation with the target variable cnt\n",
    "- temp and atemp are highly co-related with each other\n",
    "#### As seen from the correlation map, output variable has a linear relationship with variables like temp, atemp. "
   ]
  },
  {
   "cell_type": "markdown",
   "id": "20cdba3e",
   "metadata": {},
   "source": [
    "#### 4.3 Visualising the Data to Find the Correlation between the Numerical Variable"
   ]
  },
  {
   "cell_type": "code",
   "execution_count": null,
   "id": "98fbb8e5",
   "metadata": {},
   "outputs": [],
   "source": [
    "plt.figure(figsize=(20,15))\n",
    "sns.pairplot(bikeSharing_df)\n",
    "plt.show()"
   ]
  },
  {
   "cell_type": "code",
   "execution_count": null,
   "id": "84fbf983",
   "metadata": {},
   "outputs": [],
   "source": [
    "# Checking continuous variables relationship with each other\n",
    "sns.heatmap(bikeSharing_df[['temp','atemp','hum','windspeed','cnt']].corr(), cmap='BuGn', annot = True)\n",
    "plt.show()"
   ]
  },
  {
   "cell_type": "markdown",
   "id": "e1767bc9",
   "metadata": {},
   "source": [
    "#### Here we see that temp and atemp has correlation more than .99 means almost 1 (highly correlated) and atemp seems to be derived from temp so atemp field can be dropped here only"
   ]
  },
  {
   "cell_type": "code",
   "execution_count": null,
   "id": "54e0d1e6",
   "metadata": {},
   "outputs": [],
   "source": [
    "#Correlations for numeric variables\n",
    "cor=bikeSharing_df.corr()\n",
    "sns.heatmap(cor, cmap=\"YlGnBu\", annot = True)\n",
    "plt.show()"
   ]
  },
  {
   "cell_type": "code",
   "execution_count": null,
   "id": "34f7f83d",
   "metadata": {},
   "outputs": [],
   "source": [
    "#Correlations for numeric variables\n",
    "cor=bikeSharing_df.corr()\n",
    "sns.heatmap(cor, cmap=\"YlGnBu\", annot = True)\n",
    "plt.show()"
   ]
  },
  {
   "cell_type": "markdown",
   "id": "02302631",
   "metadata": {},
   "source": [
    "#### 4.4 Draw Heatmap of correlation between variables"
   ]
  },
  {
   "cell_type": "code",
   "execution_count": null,
   "id": "060c707f",
   "metadata": {},
   "outputs": [],
   "source": [
    "#Calculate Correlation\n",
    "corr = bikeSharing_df.corr()\n",
    "plt.figure(figsize=(25,10))\n",
    "\n",
    "#Draw Heatmap of correlation\n",
    "sns.heatmap(corr,annot=True, cmap='YlGnBu' )\n",
    "plt.show()"
   ]
  },
  {
   "cell_type": "markdown",
   "id": "c3dccffb",
   "metadata": {},
   "source": [
    "#### From the correlation map, temp, atemp and days_old seems to be highly correlated and only should variable can be considered for the model. However let us elminate it based on the Variance Inflation Factor later during the model building.\n",
    "#### We also see Target variable has a linear relationship with some of the  indeptendent variables. Good sign for building a linear regression Model."
   ]
  },
  {
   "cell_type": "markdown",
   "id": "bc0748e9",
   "metadata": {},
   "source": [
    "#### 4.5 Analysing Categorical Variabels with target variables "
   ]
  },
  {
   "cell_type": "code",
   "execution_count": null,
   "id": "0feeeab6",
   "metadata": {},
   "outputs": [],
   "source": [
    "# Boxplot for categorical variables to see demands\n",
    "vars_cat = ['season','yr','mnth','holiday','weekday','workingday','weathersit']\n",
    "plt.figure(figsize=(15, 15))\n",
    "for i in enumerate(vars_cat):\n",
    "    plt.subplot(3,3,i[0]+1)\n",
    "    sns.boxplot(data=bikeSharing_df, x=i[1], y='cnt')\n",
    "plt.show()"
   ]
  },
  {
   "cell_type": "markdown",
   "id": "978cc3be",
   "metadata": {},
   "source": [
    "#### _`Inference`_:\n",
    "    Here many insights can be drawn from the plots\n",
    "\n",
    "    1. Season: 3:fall has highest demand for rental bikes\n",
    "    2. I see that demand for next year has grown\n",
    "    3. Demand is continuously growing each month till June. September month has highest demand. After September, demand is        decreasing\n",
    "    4. When there is a holiday, demand has decreased.\n",
    "    5. Weekday is not giving clear picture abount demand.\n",
    "    6. The clear weathershit has highest demand\n",
    "    7. During September, bike sharing is more. During the year end and beginning, it is less, could be due to extereme            weather conditions."
   ]
  },
  {
   "cell_type": "code",
   "execution_count": null,
   "id": "f20b70f7",
   "metadata": {},
   "outputs": [],
   "source": [
    "plt.figure(figsize=(6,5),dpi=110)\n",
    "plt.title(\"Cnt vs Temp\",fontsize=16)\n",
    "sns.regplot(data=bikeSharing_df,y=\"cnt\",x=\"temp\")\n",
    "plt.xlabel(\"Temperature\")\n",
    "plt.show()"
   ]
  },
  {
   "cell_type": "markdown",
   "id": "f1c3c58f",
   "metadata": {},
   "source": [
    "#### _`Inference`_:\n",
    "- Demand for bikes is positively correlated to temp.\n",
    "- We can see that cnt is linearly increasing with temp indicating linear relation."
   ]
  },
  {
   "cell_type": "code",
   "execution_count": null,
   "id": "4063750e",
   "metadata": {},
   "outputs": [],
   "source": [
    "plt.figure(figsize=(6,5),dpi=110)\n",
    "plt.title(\"Cnt vs Hum\",fontsize=16)\n",
    "sns.regplot(data=bikeSharing_df,y=\"cnt\",x=\"hum\")\n",
    "plt.xlabel(\"Humidity\")\n",
    "plt.show()"
   ]
  },
  {
   "cell_type": "markdown",
   "id": "fa8248fd",
   "metadata": {},
   "source": [
    "#### _`Inference`_:\n",
    "- Hum is values are more scattered around.\n",
    "- Although we can see cnt decreasing with increase in humidity."
   ]
  },
  {
   "cell_type": "code",
   "execution_count": null,
   "id": "200b2293",
   "metadata": {},
   "outputs": [],
   "source": [
    "plt.figure(figsize=(6,5),dpi=110)\n",
    "plt.title(\"Cnt vs Windspeed\",fontsize=16)\n",
    "sns.regplot(data=bikeSharing_df,y=\"cnt\",x=\"windspeed\")\n",
    "plt.show()"
   ]
  },
  {
   "cell_type": "markdown",
   "id": "8f0df4e7",
   "metadata": {},
   "source": [
    "#### _`Inference`_:\n",
    "- Windspeed is values are more scattered around.\n",
    "- Although we can see cnt decreasing with increase in windspeed."
   ]
  },
  {
   "cell_type": "code",
   "execution_count": null,
   "id": "945c9b22",
   "metadata": {},
   "outputs": [],
   "source": [
    "num_features = [\"temp\",\"atemp\",\"hum\",\"windspeed\",\"cnt\"]\n",
    "plt.figure(figsize=(15,8),dpi=130)\n",
    "plt.title(\"Correlation of numeric features\",fontsize=16)\n",
    "sns.heatmap(bikeSharing_df[num_features].corr(),annot= True,cmap=\"mako\")\n",
    "plt.show()"
   ]
  },
  {
   "cell_type": "markdown",
   "id": "c71213c7",
   "metadata": {},
   "source": [
    "#### `_Inference`_:\n",
    "- Temp and Atemp are highly correlated, we can take an action to remove one of them, but lets keep them for further analysis.\n",
    "- Temp and Atemp also have high correlation with cnt variable."
   ]
  },
  {
   "cell_type": "code",
   "execution_count": null,
   "id": "ef9b181a",
   "metadata": {},
   "outputs": [],
   "source": [
    "bikeSharing_df.describe()"
   ]
  },
  {
   "cell_type": "markdown",
   "id": "2c8c5d5a",
   "metadata": {},
   "source": [
    "# 5. Data Preparation for Linear Regression "
   ]
  },
  {
   "cell_type": "markdown",
   "id": "2d013f69",
   "metadata": {},
   "source": [
    "#### 5.1 Create dummy variables for all categorical variables"
   ]
  },
  {
   "cell_type": "code",
   "execution_count": null,
   "id": "fe95e741",
   "metadata": {},
   "outputs": [],
   "source": [
    "bikeSharing_df = pd.get_dummies(data=bikeSharing_df,columns=[\"season\",\"mnth\",\"weekday\"],drop_first=True)\n",
    "bikeSharing_df = pd.get_dummies(data=bikeSharing_df,columns=[\"weathersit\"])"
   ]
  },
  {
   "cell_type": "markdown",
   "id": "182853cc",
   "metadata": {},
   "source": [
    "- Dropping the first columns as (p-1) dummies can explain p categories.\n",
    "- In weathersit first column was not dropped so as to not lose the info about severe weather situation."
   ]
  },
  {
   "cell_type": "code",
   "execution_count": null,
   "id": "69657267",
   "metadata": {},
   "outputs": [],
   "source": [
    "#Print columns after creating dummies\n",
    "bikeSharing_df.columns"
   ]
  },
  {
   "cell_type": "code",
   "execution_count": null,
   "id": "80949e78",
   "metadata": {},
   "outputs": [],
   "source": [
    "#Print few rows to inspect\n",
    "bikeSharing_df.head()"
   ]
  },
  {
   "cell_type": "markdown",
   "id": "79753f8c",
   "metadata": {},
   "source": [
    "# 6. Model Building"
   ]
  },
  {
   "cell_type": "markdown",
   "id": "86170496",
   "metadata": {},
   "source": [
    "## 5.1 Split Data into training and test"
   ]
  },
  {
   "cell_type": "code",
   "execution_count": null,
   "id": "b2b84b65",
   "metadata": {},
   "outputs": [],
   "source": [
    "# Checking shape before splitting\n",
    "bikeSharing_df.shape"
   ]
  },
  {
   "cell_type": "code",
   "execution_count": null,
   "id": "65a98fa9",
   "metadata": {},
   "outputs": [],
   "source": [
    "#y to contain only target variable\n",
    "y=bikeSharing_df.pop('cnt')\n",
    "\n",
    "#X is all remainign variable also our independent variables\n",
    "X=bikeSharing_df\n",
    "\n",
    "#Train Test split with 70:30 ratio\n",
    "X_train, X_test, y_train, y_test = train_test_split(X, y, test_size=0.3, random_state=42)"
   ]
  },
  {
   "cell_type": "code",
   "execution_count": null,
   "id": "e92da0a6",
   "metadata": {},
   "outputs": [],
   "source": [
    "#Inspect independent variables\n",
    "X.head()"
   ]
  },
  {
   "cell_type": "code",
   "execution_count": null,
   "id": "4679e219",
   "metadata": {},
   "outputs": [],
   "source": [
    "# Checking shape and size for train and test\n",
    "print(X_train.shape)\n",
    "print(X_test.shape)"
   ]
  },
  {
   "cell_type": "markdown",
   "id": "0ea08438",
   "metadata": {},
   "source": [
    "### 5.2 Feature Scaling continuous variables"
   ]
  },
  {
   "cell_type": "markdown",
   "id": "be2322a4",
   "metadata": {},
   "source": [
    "To make all features in same scale to interpret easily\n",
    "\n",
    "Following columns are continous to be scaled\n",
    "temp,hum,windspeed"
   ]
  },
  {
   "cell_type": "code",
   "execution_count": null,
   "id": "0de1ae8b",
   "metadata": {},
   "outputs": [],
   "source": [
    "# Importing required library\n",
    "from sklearn.linear_model import LinearRegression\n",
    "from sklearn.feature_selection import RFE\n",
    "from sklearn.model_selection import train_test_split\n",
    "from sklearn.metrics import r2_score\n",
    "from sklearn.preprocessing import MinMaxScaler"
   ]
  },
  {
   "cell_type": "code",
   "execution_count": null,
   "id": "4b1ce1fe",
   "metadata": {},
   "outputs": [],
   "source": [
    "# Let us scale continuous variables\n",
    "num_vars = ['temp','atemp','hum','windspeed','days_old']\n",
    "\n",
    "#Use Normalized scaler to scale\n",
    "scaler = MinMaxScaler()\n",
    "\n",
    "#Fit and transform training set only\n",
    "X_train[num_vars] = scaler.fit_transform(X_train[num_vars])"
   ]
  },
  {
   "cell_type": "code",
   "execution_count": null,
   "id": "332ac1e3",
   "metadata": {},
   "outputs": [],
   "source": [
    "#Inspect stats fro Training set after scaling\n",
    "X_train.describe()"
   ]
  },
  {
   "cell_type": "code",
   "execution_count": null,
   "id": "d65e42ee",
   "metadata": {},
   "outputs": [],
   "source": [
    "X_train.head()"
   ]
  },
  {
   "cell_type": "markdown",
   "id": "4bbe5010",
   "metadata": {},
   "source": [
    "## 5.3 Build a Model using RFE and Automated approach\n",
    "\n",
    "#### Use RFE to eliminate some columns"
   ]
  },
  {
   "cell_type": "code",
   "execution_count": null,
   "id": "59a4517c",
   "metadata": {},
   "outputs": [],
   "source": [
    "# Build a Lienar Regression model using SKLearn for RFE\n",
    "lr = LinearRegression()\n",
    "lr.fit(X_train,y_train)"
   ]
  },
  {
   "cell_type": "code",
   "execution_count": null,
   "id": "c657c749",
   "metadata": {},
   "outputs": [],
   "source": [
    "#Cut down number of features to 15 using automated approach\n",
    "rfe = RFE(lr,15)\n",
    "rfe.fit(X_train,y_train)"
   ]
  },
  {
   "cell_type": "code",
   "execution_count": null,
   "id": "9c16a9c3",
   "metadata": {},
   "outputs": [],
   "source": [
    "#Columns selected by RFE and their weights\n",
    "list(zip(X_train.columns,rfe.support_,rfe.ranking_))"
   ]
  },
  {
   "cell_type": "markdown",
   "id": "38982f32",
   "metadata": {},
   "source": [
    "## 5.4 Manual elimination"
   ]
  },
  {
   "cell_type": "markdown",
   "id": "ed277c36",
   "metadata": {},
   "source": [
    "##### Function to build a model using statsmodel api"
   ]
  },
  {
   "cell_type": "code",
   "execution_count": null,
   "id": "d0d0ccdd",
   "metadata": {},
   "outputs": [],
   "source": [
    "#Function to build a model using statsmodel api - Takes the columns to be selected for model as a parameter\n",
    "def build_model(cols):\n",
    "    X_train_sm = sm.add_constant(X_train[cols])\n",
    "    lm = sm.OLS(y_train, X_train_sm).fit()\n",
    "    print(lm.summary())\n",
    "    return lm"
   ]
  },
  {
   "cell_type": "markdown",
   "id": "61257d69",
   "metadata": {},
   "source": [
    "##### Function to calculate VIFs and print them"
   ]
  },
  {
   "cell_type": "code",
   "execution_count": null,
   "id": "29783737",
   "metadata": {},
   "outputs": [],
   "source": [
    "#Function to calculate VIFs and print them -Takes the columns for which VIF to be calcualted as a parameter\n",
    "def get_vif(cols):\n",
    "    df1 = X_train[cols]\n",
    "    vif = pd.DataFrame()\n",
    "    vif['Features'] = df1.columns\n",
    "    vif['VIF'] = [variance_inflation_factor(df1.values, i) for i in range(df1.shape[1])]\n",
    "    vif['VIF'] = round(vif['VIF'],2)\n",
    "    print(vif.sort_values(by='VIF',ascending=False))"
   ]
  },
  {
   "cell_type": "code",
   "execution_count": null,
   "id": "ab6803ff",
   "metadata": {},
   "outputs": [],
   "source": [
    "#Print Columns selected by RFE. We will start with these columns for manual elimination\n",
    "X_train.columns[rfe.support_]"
   ]
  },
  {
   "cell_type": "code",
   "execution_count": null,
   "id": "eabef83d",
   "metadata": {},
   "outputs": [],
   "source": [
    "# Features not selected by RFE\n",
    "X_train.columns[~rfe.support_]"
   ]
  },
  {
   "cell_type": "code",
   "execution_count": null,
   "id": "9b714195",
   "metadata": {},
   "outputs": [],
   "source": [
    "# Taking 15 columns supported by RFE for regression\n",
    "X_train_rfe = X_train[['yr', 'holiday', 'workingday', 'temp', 'hum', 'windspeed', 'season_spring',\n",
    "       'season_summer', 'season_winter', 'mnth_jan', 'mnth_jul', 'mnth_sept', 'weekday_sat',\n",
    "       'weathersit_bad', 'weathersit_moderate']]"
   ]
  },
  {
   "cell_type": "code",
   "execution_count": null,
   "id": "514b7d4c",
   "metadata": {},
   "outputs": [],
   "source": [
    "X_train_rfe.shape"
   ]
  },
  {
   "cell_type": "markdown",
   "id": "c097389c",
   "metadata": {},
   "source": [
    "# 6. Build Model "
   ]
  },
  {
   "cell_type": "markdown",
   "id": "18fc436c",
   "metadata": {},
   "source": [
    "### 6.1 Model 1 - Start with all variables selected by RFE"
   ]
  },
  {
   "cell_type": "code",
   "execution_count": null,
   "id": "0381128f",
   "metadata": {},
   "outputs": [],
   "source": [
    "#Selected columns for Model 1 - all columns selected by RFE\n",
    "cols = ['yr', 'holiday', 'workingday', 'temp', 'hum', 'windspeed', 'season_spring',\n",
    "       'season_summer', 'season_winter', 'mnth_jan', 'mnth_jul', 'mnth_sept', 'weekday_sat',\n",
    "       'weathersit_bad', 'weathersit_moderate']\n",
    "\n",
    "build_model(cols)\n",
    "get_vif(cols)"
   ]
  },
  {
   "cell_type": "code",
   "execution_count": null,
   "id": "5c9d5b79",
   "metadata": {},
   "outputs": [],
   "source": [
    "# Checking correlation of features selected by RFE with target column. \n",
    "# Also to check impact of different features on target.\n",
    "plt.figure(figsize = (15,10))\n",
    "sns.heatmap(bikeSharing_df[['yr', 'holiday', 'workingday', 'temp', 'hum', 'windspeed', 'season_spring',\n",
    "       'season_summer', 'season_winter', 'mnth_jan', 'mnth_jul', 'mnth_sept', 'weekday_sat',\n",
    "       'weathersit_bad', 'weathersit_moderate']].corr(), cmap='GnBu', annot=True)\n",
    "plt.show()"
   ]
  },
  {
   "cell_type": "markdown",
   "id": "20416d11",
   "metadata": {},
   "source": [
    "## Model 2"
   ]
  },
  {
   "cell_type": "code",
   "execution_count": null,
   "id": "9915c47a",
   "metadata": {},
   "outputs": [],
   "source": [
    "# Dropping the variable mnth_jan as it has negative coefficient and is insignificant as it has high p-value\n",
    "cols = ['yr', 'holiday', 'workingday', 'temp', 'hum', 'windspeed', 'season_spring',\n",
    "       'season_summer', 'season_winter', 'mnth_jul', 'mnth_sept', 'weekday_sat',\n",
    "       'weathersit_bad', 'weathersit_moderate']\n",
    "build_model(cols)\n",
    "get_vif(cols)"
   ]
  },
  {
   "cell_type": "markdown",
   "id": "f0ced743",
   "metadata": {},
   "source": [
    "## Model 3"
   ]
  },
  {
   "cell_type": "markdown",
   "id": "09599d37",
   "metadata": {},
   "source": [
    "#### All the columns have p-value > .05 so checking VIFs"
   ]
  },
  {
   "cell_type": "code",
   "execution_count": null,
   "id": "9d3a1033",
   "metadata": {},
   "outputs": [],
   "source": [
    "# Dropping the variable hum as it has negative coefficient and is insignificant as it has high p-value\n",
    "cols = ['yr', 'holiday', 'workingday', 'temp', 'windspeed', 'season_spring',\n",
    "       'season_summer', 'season_winter', 'mnth_jul', 'mnth_sept', 'weekday_sat',\n",
    "       'weathersit_bad', 'weathersit_moderate']\n",
    "build_model(cols)\n",
    "get_vif(cols)"
   ]
  },
  {
   "cell_type": "markdown",
   "id": "c76dbb2c",
   "metadata": {},
   "source": [
    "## Module 4"
   ]
  },
  {
   "cell_type": "code",
   "execution_count": null,
   "id": "d1f16701",
   "metadata": {},
   "outputs": [],
   "source": [
    "# Dropping the variable holiday as it has negative coefficient and is insignificant as it has high p-value\n",
    "cols = ['yr', 'workingday', 'temp', 'windspeed', 'season_spring',\n",
    "       'season_summer', 'season_winter', 'mnth_jul', 'mnth_sept', 'weekday_sat',\n",
    "       'weathersit_bad', 'weathersit_moderate']\n",
    "build_model(cols)\n",
    "get_vif(cols)"
   ]
  },
  {
   "cell_type": "markdown",
   "id": "846f69ef",
   "metadata": {},
   "source": [
    "## Model 5"
   ]
  },
  {
   "cell_type": "code",
   "execution_count": null,
   "id": "d3f0fecd",
   "metadata": {},
   "outputs": [],
   "source": [
    "# Dropping the variable mnth_jul as it has negative coefficient and is insignificant as it has high p-value\n",
    "cols = ['yr', 'workingday', 'temp', 'windspeed', 'season_spring',\n",
    "       'season_summer', 'season_winter', 'mnth_sept', 'weekday_sat',\n",
    "       'weathersit_bad', 'weathersit_moderate']\n",
    "build_model(cols)\n",
    "get_vif(cols)"
   ]
  },
  {
   "cell_type": "markdown",
   "id": "124a95f7",
   "metadata": {},
   "source": [
    "## Model 6"
   ]
  },
  {
   "cell_type": "code",
   "execution_count": null,
   "id": "ae3aadea",
   "metadata": {},
   "outputs": [],
   "source": [
    "# Dropping the variable temp as it has negative coefficient and is insignificant as it has high p-value\n",
    "cols = ['yr', 'workingday', 'windspeed', 'season_spring',\n",
    "       'season_summer', 'season_winter', 'mnth_sept', 'weekday_sat',\n",
    "       'weathersit_bad', 'weathersit_moderate']\n",
    "build_model(cols)\n",
    "get_vif(cols)"
   ]
  },
  {
   "cell_type": "markdown",
   "id": "6b0bb254",
   "metadata": {},
   "source": [
    "## Model 7"
   ]
  },
  {
   "cell_type": "code",
   "execution_count": null,
   "id": "9936d639",
   "metadata": {},
   "outputs": [],
   "source": [
    "## Trying to replace July with spring as both were highly correlated\n",
    "\n",
    "cols = ['yr', 'workingday', 'windspeed', 'mnth_jul',\n",
    "       'season_summer', 'season_winter', 'mnth_sept', 'weekday_sat',\n",
    "       'weathersit_bad', 'weathersit_moderate']\n",
    "build_model(cols)\n",
    "get_vif(cols)"
   ]
  },
  {
   "cell_type": "markdown",
   "id": "8015d255",
   "metadata": {},
   "source": [
    "## Model 8"
   ]
  },
  {
   "cell_type": "code",
   "execution_count": null,
   "id": "35280e84",
   "metadata": {},
   "outputs": [],
   "source": [
    "## Trying to replace July with spring as both were highly correlated\n",
    "\n",
    "cols = ['yr', 'workingday', 'windspeed', 'mnth_jul',\n",
    "       'season_summer', 'season_winter', 'mnth_sept', 'weekday_sat',\n",
    "       'weathersit_bad', 'weathersit_moderate']\n",
    "build_model(cols)\n",
    "get_vif(cols)"
   ]
  },
  {
   "cell_type": "markdown",
   "id": "288190e0",
   "metadata": {},
   "source": [
    "## Model 9"
   ]
  },
  {
   "cell_type": "code",
   "execution_count": null,
   "id": "4e7eb1e5",
   "metadata": {},
   "outputs": [],
   "source": [
    "# Removing windspeed with spring as windspeed was highly correlated with temp\n",
    "cols = ['yr', 'workingday', 'season_spring', 'mnth_jul',\n",
    "       'season_summer', 'season_winter', 'mnth_sept', 'weekday_sat',\n",
    "       'weathersit_bad', 'weathersit_moderate']\n",
    "build_model(cols)\n",
    "get_vif(cols)"
   ]
  },
  {
   "cell_type": "markdown",
   "id": "ee3d88f7",
   "metadata": {},
   "source": [
    "## Model 10"
   ]
  },
  {
   "cell_type": "code",
   "execution_count": null,
   "id": "3c64ee18",
   "metadata": {},
   "outputs": [],
   "source": [
    "# using the weekend \"Sunday\" which was dropped during RFE instead of Saturday.\n",
    "\n",
    "cols = ['yr', 'workingday', 'season_spring', 'mnth_jul',\n",
    "       'season_summer', 'season_winter', 'mnth_sept', 'weekday_sun',\n",
    "       'weathersit_bad', 'weathersit_moderate']\n",
    "build_model(cols)\n",
    "get_vif(cols)"
   ]
  },
  {
   "cell_type": "markdown",
   "id": "cd318ddb",
   "metadata": {},
   "source": [
    "## Model 11"
   ]
  },
  {
   "cell_type": "code",
   "execution_count": null,
   "id": "218c71c8",
   "metadata": {},
   "outputs": [],
   "source": [
    "# adding temp and removed 'season_summer' and 'workingday'\n",
    "cols = ['yr', 'season_spring', 'mnth_jul',\n",
    "        'season_winter', 'mnth_sept', 'weekday_sun',\n",
    "       'weathersit_bad', 'weathersit_moderate', 'temp']\n",
    "\n",
    "#['yr', 'holiday','temp', 'spring','winter', 'July','September','Sunday','Light_Snow_Rain','Mist_Clody']\n",
    "build_model(cols)\n",
    "get_vif(cols)"
   ]
  },
  {
   "cell_type": "markdown",
   "id": "01b98a15",
   "metadata": {},
   "source": [
    "#### `_Inference`_\n",
    "Here VIF seems to be almost accepted. p-value for all the features is  almost 0.0 and R2 is 0.821 \n",
    "Let us select Model 11 as our final as it has all important statistics high (R-square, Adjusted R-squared and F-statistic), along with no insignificant variables and no multi coliinear (high VIF) variables. \n",
    "Difference between R-squared and Adjusted R-squared values for this model is veryless, which also means that there are no additional parameters that can be removed from this model."
   ]
  },
  {
   "cell_type": "code",
   "execution_count": null,
   "id": "4abcda1d",
   "metadata": {},
   "outputs": [],
   "source": [
    "#Build a model with all columns to select features automatically\n",
    "def build_model_sk(X,y):\n",
    "    lr1 = LinearRegression()\n",
    "    lr1.fit(X,y)\n",
    "    return lr1"
   ]
  },
  {
   "cell_type": "code",
   "execution_count": null,
   "id": "503bedc0",
   "metadata": {},
   "outputs": [],
   "source": [
    "#Let us build the finalmodel using sklearn\n",
    "cols = ['yr', 'season_spring', 'mnth_jul',\n",
    "        'season_winter', 'mnth_sept', 'weekday_sun',\n",
    "       'weathersit_bad', 'weathersit_moderate', 'temp']\n",
    "\n",
    "#Build a model with above columns\n",
    "lr = build_model_sk(X_train[cols],y_train)\n",
    "print(lr.intercept_,lr.coef_)"
   ]
  },
  {
   "cell_type": "markdown",
   "id": "807158ee",
   "metadata": {},
   "source": [
    "## Step 7. Model Evaluation \n",
    "### 7.1 Residucal Analysis"
   ]
  },
  {
   "cell_type": "code",
   "execution_count": null,
   "id": "b72a474e",
   "metadata": {},
   "outputs": [],
   "source": [
    "y_train_pred = lr.predict(X_train[cols])"
   ]
  },
  {
   "cell_type": "code",
   "execution_count": null,
   "id": "201fa1b9",
   "metadata": {},
   "outputs": [],
   "source": [
    "#Plot a histogram of the error terms\n",
    "def plot_res_dist(act, pred):\n",
    "    sns.distplot(act-pred)\n",
    "    plt.title('Error Terms')\n",
    "    plt.xlabel('Errors')"
   ]
  },
  {
   "cell_type": "code",
   "execution_count": null,
   "id": "f3f92fb4",
   "metadata": {},
   "outputs": [],
   "source": [
    "plot_res_dist(y_train, y_train_pred)"
   ]
  },
  {
   "cell_type": "markdown",
   "id": "c100b63e",
   "metadata": {},
   "source": [
    "#### Errors are normally distribured here with mean 0. So everything seems to be fine"
   ]
  },
  {
   "cell_type": "code",
   "execution_count": null,
   "id": "9ad8c956",
   "metadata": {},
   "outputs": [],
   "source": [
    "# Actual vs Predicted\n",
    "c = [i for i in range(0,len(X_train),1)]\n",
    "plt.plot(c,y_train, color=\"blue\")\n",
    "plt.plot(c,y_train_pred, color=\"red\")\n",
    "plt.suptitle('Actual vs Predicted', fontsize = 15)\n",
    "plt.xlabel('Index')\n",
    "plt.ylabel('Demands')\n",
    "plt.show()"
   ]
  },
  {
   "cell_type": "markdown",
   "id": "292c6fc0",
   "metadata": {},
   "source": [
    "#### Actual and Predicted result following almost the same pattern so this model seems ok"
   ]
  },
  {
   "cell_type": "code",
   "execution_count": null,
   "id": "195934f9",
   "metadata": {},
   "outputs": [],
   "source": [
    "# Error Terms\n",
    "c = [i for i in range(0,len(X_train),1)]\n",
    "plt.plot(c,y_train-y_train_pred)\n",
    "plt.suptitle('Error Terms', fontsize = 15)\n",
    "plt.xlabel('Index')\n",
    "plt.ylabel('y_train-y_train_pred')\n",
    "plt.show()"
   ]
  },
  {
   "cell_type": "markdown",
   "id": "5c33b6dc",
   "metadata": {},
   "source": [
    "#### Here,If we see the error terms are independent of each other."
   ]
  },
  {
   "cell_type": "code",
   "execution_count": null,
   "id": "af005b43",
   "metadata": {},
   "outputs": [],
   "source": [
    "#Print R-squared Value\n",
    "r2_score(y_train,y_train_pred)"
   ]
  },
  {
   "cell_type": "markdown",
   "id": "4e31b29a",
   "metadata": {},
   "source": [
    "### _`Inference`_\n",
    "R2 Same as we obtained for our final model"
   ]
  },
  {
   "cell_type": "markdown",
   "id": "09c199ef",
   "metadata": {},
   "source": [
    "### 7.2 Linearity Check"
   ]
  },
  {
   "cell_type": "code",
   "execution_count": null,
   "id": "2ed207e0",
   "metadata": {},
   "outputs": [],
   "source": [
    "# scatter plot for the check\n",
    "residual = (y_train - y_train_pred)\n",
    "plt.scatter(y_train,residual)\n",
    "plt.ylabel(\"y_train\")\n",
    "plt.xlabel(\"Residual\")\n",
    "plt.show()"
   ]
  },
  {
   "cell_type": "markdown",
   "id": "e2dcfe8b",
   "metadata": {},
   "source": [
    "### 7.3 Predict values for test data set"
   ]
  },
  {
   "cell_type": "code",
   "execution_count": null,
   "id": "09243fef",
   "metadata": {},
   "outputs": [],
   "source": [
    "#Scale variables in X_test\n",
    "num_vars = ['temp','atemp','hum','windspeed','days_old']\n",
    "\n",
    "#Test data to be transformed only, no fitting\n",
    "X_test[num_vars] = scaler.transform(X_test[num_vars])"
   ]
  },
  {
   "cell_type": "code",
   "execution_count": null,
   "id": "1e5732d9",
   "metadata": {},
   "outputs": [],
   "source": [
    "#Columns from our final model\n",
    "cols = ['yr', 'season_spring', 'mnth_jul',\n",
    "        'season_winter', 'mnth_sept', 'weekday_sun',\n",
    "       'weathersit_bad', 'weathersit_moderate', 'temp']\n",
    "\n",
    "#Predict the values for test data\n",
    "y_test_pred = lr.predict(X_test[cols])"
   ]
  },
  {
   "cell_type": "markdown",
   "id": "0b5cab69",
   "metadata": {},
   "source": [
    "### 7.4 R-Squared value for test predictions"
   ]
  },
  {
   "cell_type": "code",
   "execution_count": null,
   "id": "af0caf3a",
   "metadata": {},
   "outputs": [],
   "source": [
    "# Find out the R squared value between test and predicted test data sets.  \n",
    "r2_score(y_test,y_test_pred)"
   ]
  },
  {
   "cell_type": "markdown",
   "id": "22dfffa1",
   "metadata": {},
   "source": [
    "### 7.5 Homoscedacity"
   ]
  },
  {
   "cell_type": "markdown",
   "id": "7ef1319d",
   "metadata": {},
   "source": [
    "##### _`Inference`_ \n",
    "R2 value for predictions on test data (0.815) is almost same as R2 value of train data(0.818). This is a good R-squared value, hence we can see our model is performing good even on unseen data (test data)"
   ]
  },
  {
   "cell_type": "code",
   "execution_count": null,
   "id": "2bd43871",
   "metadata": {},
   "outputs": [],
   "source": [
    "# Plotting y_test and y_test_pred to understand the spread\n",
    "\n",
    "fig = plt.figure()\n",
    "plt.scatter(y_test, y_test_pred)\n",
    "fig.suptitle('y_test vs y_test_pred', fontsize = 20)              # Plot heading \n",
    "plt.xlabel('y_test', fontsize = 18)                          # X-label\n",
    "plt.ylabel('y_test_pred', fontsize = 16)"
   ]
  },
  {
   "cell_type": "markdown",
   "id": "90307da4",
   "metadata": {},
   "source": [
    "####  _`Inference`_\n",
    "We can observe that variance of the residuals (error terms) is constant across predictions.  i.e error term does not vary much as the value of the predictor variable changes."
   ]
  },
  {
   "cell_type": "markdown",
   "id": "24653b73",
   "metadata": {},
   "source": [
    "### 7.8 Plot Test vs Predicted test values"
   ]
  },
  {
   "cell_type": "code",
   "execution_count": null,
   "id": "e3c833bd",
   "metadata": {},
   "outputs": [],
   "source": [
    "#Function to plot Actual vs Predicted\n",
    "#Takes Actual and PRedicted values as input along with the scale and Title to indicate which data\n",
    "def plot_act_pred(act,pred,scale,dataname):\n",
    "    c = [i for i in range(1,scale,1)]\n",
    "    fig = plt.figure(figsize=(14,5))\n",
    "    plt.plot(c,act, color=\"blue\", linewidth=2.5, linestyle=\"-\")\n",
    "    plt.plot(c,pred, color=\"red\",  linewidth=2.5, linestyle=\"-\")\n",
    "    fig.suptitle('Actual and Predicted - '+dataname, fontsize=20)              # Plot heading \n",
    "    plt.xlabel('Index', fontsize=18)                               # X-label\n",
    "    plt.ylabel('Counts', fontsize=16)                               # Y-label"
   ]
  },
  {
   "cell_type": "code",
   "execution_count": null,
   "id": "0f31ad69",
   "metadata": {},
   "outputs": [],
   "source": [
    "#Plot Actual vs Predicted for Test Data\n",
    "plot_act_pred(y_test,y_test_pred,len(y_test)+1,'Test Data')"
   ]
  },
  {
   "cell_type": "markdown",
   "id": "4944d677",
   "metadata": {},
   "source": [
    "#### _`Inference`_\n",
    "As we can see predictions for test data is very close to actuals"
   ]
  },
  {
   "cell_type": "markdown",
   "id": "e183bfa4",
   "metadata": {},
   "source": [
    "### 7.9 Plot Error Terms for test data"
   ]
  },
  {
   "cell_type": "code",
   "execution_count": null,
   "id": "01f5b0a5",
   "metadata": {},
   "outputs": [],
   "source": [
    "# Error terms\n",
    "def plot_err_terms(act,pred):\n",
    "    c = [i for i in range(1,220,1)]\n",
    "    fig = plt.figure(figsize=(14,5))\n",
    "    plt.plot(c,act-pred, color=\"blue\", marker='o', linewidth=2.5, linestyle=\"\")\n",
    "    fig.suptitle('Error Terms', fontsize=20)              # Plot heading \n",
    "    plt.xlabel('Index', fontsize=18)                      # X-label\n",
    "    plt.ylabel('Counts - Predicted Counts', fontsize=16)                # Y-label"
   ]
  },
  {
   "cell_type": "code",
   "execution_count": null,
   "id": "4d80df50",
   "metadata": {},
   "outputs": [],
   "source": [
    "#Plot error terms for test data\n",
    "plot_err_terms(y_test,y_test_pred)"
   ]
  },
  {
   "cell_type": "markdown",
   "id": "83eaa120",
   "metadata": {},
   "source": [
    "#### _`Inference`_\n",
    "As we can see the error terms are randomly distributed and there is no pattern which means the output is explained well by the model and there are no other parameters that can explain the model better."
   ]
  },
  {
   "cell_type": "markdown",
   "id": "6e35d3cb",
   "metadata": {},
   "source": [
    "### 8. Making Predictions"
   ]
  },
  {
   "cell_type": "code",
   "execution_count": null,
   "id": "d8be35ab",
   "metadata": {},
   "outputs": [],
   "source": [
    "# Checking data before scaling\n",
    "bikeSharing_df.head()"
   ]
  },
  {
   "cell_type": "markdown",
   "id": "3c108b4c",
   "metadata": {},
   "source": [
    "### 8.1 Intrepretting the Model"
   ]
  },
  {
   "cell_type": "markdown",
   "id": "9b2eff1e",
   "metadata": {},
   "source": [
    "#### Let us go with interpretting the RFE with Manual model results as we give more importance to imputation"
   ]
  },
  {
   "cell_type": "code",
   "execution_count": null,
   "id": "d8d868aa",
   "metadata": {},
   "outputs": [],
   "source": [
    "#Let us rebuild the final model of manual + rfe approach using statsmodel to interpret it\n",
    "cols = ['yr', 'season_spring', 'mnth_jul',\n",
    "        'season_winter', 'mnth_sept', 'weekday_sun',\n",
    "       'weathersit_bad', 'weathersit_moderate', 'temp']\n",
    "\n",
    "lm = build_model(cols)"
   ]
  },
  {
   "cell_type": "markdown",
   "id": "60ef09a8",
   "metadata": {},
   "source": [
    "### Interepretation of results"
   ]
  },
  {
   "cell_type": "markdown",
   "id": "73c112ea",
   "metadata": {},
   "source": [
    "### Analysing the above model, the comapany should focus on the following features:\n",
    "- Company should focus on expanding business during Spring.\n",
    "- Company should focus on expanding business during September.\n",
    "- Based on previous data it is expected to have a boom in number of users once situation comes back to normal, compared to 2019.\n",
    "- There would be less bookings during Light Snow or Rain, they could probably use this time to serive the bikes without having business impact.\n",
    "\n",
    "#### Hence when the situation comes back to normal, the company should come up with new offers during spring when the weather is pleasant and also advertise a little for September as this is when business would be at its best."
   ]
  },
  {
   "cell_type": "markdown",
   "id": "6a490075",
   "metadata": {},
   "source": [
    "### _`Conclusion`_\n",
    "Significant variables to predict the demand for shared bikes\n",
    "- holiday\n",
    "- temp\n",
    "- hum\n",
    "- windspeed\n",
    "- Season\n",
    "- months(January, July, September, November, December)\n",
    "- Year (2019)\n",
    "- Sunday\n",
    "- weathersit( Light Snow, Mist + Cloudy)"
   ]
  },
  {
   "cell_type": "code",
   "execution_count": null,
   "id": "2873ad31",
   "metadata": {},
   "outputs": [],
   "source": []
  }
 ],
 "metadata": {
  "kernelspec": {
   "display_name": "Python 3 (ipykernel)",
   "language": "python",
   "name": "python3"
  },
  "language_info": {
   "codemirror_mode": {
    "name": "ipython",
    "version": 3
   },
   "file_extension": ".py",
   "mimetype": "text/x-python",
   "name": "python",
   "nbconvert_exporter": "python",
   "pygments_lexer": "ipython3",
   "version": "3.8.3"
  }
 },
 "nbformat": 4,
 "nbformat_minor": 5
}
